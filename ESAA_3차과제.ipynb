{
  "nbformat": 4,
  "nbformat_minor": 0,
  "metadata": {
    "colab": {
      "provenance": [],
      "authorship_tag": "ABX9TyOfXhN07DKSKzSyAQ1c/6AF",
      "include_colab_link": true
    },
    "kernelspec": {
      "name": "python3",
      "display_name": "Python 3"
    },
    "language_info": {
      "name": "python"
    }
  },
  "cells": [
    {
      "cell_type": "markdown",
      "metadata": {
        "id": "view-in-github",
        "colab_type": "text"
      },
      "source": [
        "<a href=\"https://colab.research.google.com/github/yujin0210/esaa/blob/main/ESAA_3%EC%B0%A8%EA%B3%BC%EC%A0%9C.ipynb\" target=\"_parent\"><img src=\"https://colab.research.google.com/assets/colab-badge.svg\" alt=\"Open In Colab\"/></a>"
      ]
    },
    {
      "cell_type": "markdown",
      "source": [
        "### Matplotlib - 기본 그래프 도구\n",
        "\n",
        "### 1-1 선 그래프\n",
        "\n",
        "\n",
        "\n",
        "*   선 그래프(line plot)는 연속하는 데이터 값들을 직선 또는 곡선으로 연결해 데이터 값 사이의 관계를 나타냄\n",
        "*   기본 사용법 - 데이터 시각화에 사용할 matplotlib.pyplot 모듈을 \"as plt\"와 같이 약칭 plt로 임포트 함\n",
        "\n"
      ],
      "metadata": {
        "id": "LdS3p-cBKhIp"
      }
    },
    {
      "cell_type": "code",
      "source": [
        "# codin: utf-8\n",
        "\n",
        "# 라이브러리 불러오기\n",
        "import pandas as pd\n",
        "import matplotlib.pyplot as plt\n",
        "\n",
        "# Excel 데이터를 데이터프레임으로 변홴\n",
        "df = pd.read_excel('C:/Users/user/Downloads/5674-833_4th.zip/part4/시도별 전출입 인구수.xlsx',engine='openpyxl', header=0)\n"
      ],
      "metadata": {
        "id": "8ggW0zXkMl0o",
        "colab": {
          "base_uri": "https://localhost:8080/",
          "height": 333
        },
        "outputId": "12a903c5-c854-4175-f5ef-b9863583b820"
      },
      "execution_count": null,
      "outputs": [
        {
          "output_type": "error",
          "ename": "FileNotFoundError",
          "evalue": "[Errno 2] No such file or directory: 'C:/Users/user/Downloads/5674-833_4th.zip/part4/시도별 전출입 인구수.xlsx'",
          "traceback": [
            "\u001b[0;31m---------------------------------------------------------------------------\u001b[0m",
            "\u001b[0;31mFileNotFoundError\u001b[0m                         Traceback (most recent call last)",
            "\u001b[0;32m<ipython-input-45-84e511ccd295>\u001b[0m in \u001b[0;36m<cell line: 8>\u001b[0;34m()\u001b[0m\n\u001b[1;32m      6\u001b[0m \u001b[0;34m\u001b[0m\u001b[0m\n\u001b[1;32m      7\u001b[0m \u001b[0;31m# Excel 데이터를 데이터프레임으로 변홴\u001b[0m\u001b[0;34m\u001b[0m\u001b[0;34m\u001b[0m\u001b[0m\n\u001b[0;32m----> 8\u001b[0;31m \u001b[0mdf\u001b[0m \u001b[0;34m=\u001b[0m \u001b[0mpd\u001b[0m\u001b[0;34m.\u001b[0m\u001b[0mread_excel\u001b[0m\u001b[0;34m(\u001b[0m\u001b[0;34mR'C:/Users/user/Downloads/5674-833_4th.zip/part4/시도별 전출입 인구수.xlsx'\u001b[0m\u001b[0;34m,\u001b[0m\u001b[0mengine\u001b[0m\u001b[0;34m=\u001b[0m\u001b[0;34m'openpyxl'\u001b[0m\u001b[0;34m,\u001b[0m \u001b[0mheader\u001b[0m\u001b[0;34m=\u001b[0m\u001b[0;36m0\u001b[0m\u001b[0;34m)\u001b[0m\u001b[0;34m\u001b[0m\u001b[0;34m\u001b[0m\u001b[0m\n\u001b[0m",
            "\u001b[0;32m/usr/local/lib/python3.10/dist-packages/pandas/util/_decorators.py\u001b[0m in \u001b[0;36mwrapper\u001b[0;34m(*args, **kwargs)\u001b[0m\n\u001b[1;32m    209\u001b[0m                 \u001b[0;32melse\u001b[0m\u001b[0;34m:\u001b[0m\u001b[0;34m\u001b[0m\u001b[0;34m\u001b[0m\u001b[0m\n\u001b[1;32m    210\u001b[0m                     \u001b[0mkwargs\u001b[0m\u001b[0;34m[\u001b[0m\u001b[0mnew_arg_name\u001b[0m\u001b[0;34m]\u001b[0m \u001b[0;34m=\u001b[0m \u001b[0mnew_arg_value\u001b[0m\u001b[0;34m\u001b[0m\u001b[0;34m\u001b[0m\u001b[0m\n\u001b[0;32m--> 211\u001b[0;31m             \u001b[0;32mreturn\u001b[0m \u001b[0mfunc\u001b[0m\u001b[0;34m(\u001b[0m\u001b[0;34m*\u001b[0m\u001b[0margs\u001b[0m\u001b[0;34m,\u001b[0m \u001b[0;34m**\u001b[0m\u001b[0mkwargs\u001b[0m\u001b[0;34m)\u001b[0m\u001b[0;34m\u001b[0m\u001b[0;34m\u001b[0m\u001b[0m\n\u001b[0m\u001b[1;32m    212\u001b[0m \u001b[0;34m\u001b[0m\u001b[0m\n\u001b[1;32m    213\u001b[0m         \u001b[0;32mreturn\u001b[0m \u001b[0mcast\u001b[0m\u001b[0;34m(\u001b[0m\u001b[0mF\u001b[0m\u001b[0;34m,\u001b[0m \u001b[0mwrapper\u001b[0m\u001b[0;34m)\u001b[0m\u001b[0;34m\u001b[0m\u001b[0;34m\u001b[0m\u001b[0m\n",
            "\u001b[0;32m/usr/local/lib/python3.10/dist-packages/pandas/util/_decorators.py\u001b[0m in \u001b[0;36mwrapper\u001b[0;34m(*args, **kwargs)\u001b[0m\n\u001b[1;32m    329\u001b[0m                     \u001b[0mstacklevel\u001b[0m\u001b[0;34m=\u001b[0m\u001b[0mfind_stack_level\u001b[0m\u001b[0;34m(\u001b[0m\u001b[0;34m)\u001b[0m\u001b[0;34m,\u001b[0m\u001b[0;34m\u001b[0m\u001b[0;34m\u001b[0m\u001b[0m\n\u001b[1;32m    330\u001b[0m                 )\n\u001b[0;32m--> 331\u001b[0;31m             \u001b[0;32mreturn\u001b[0m \u001b[0mfunc\u001b[0m\u001b[0;34m(\u001b[0m\u001b[0;34m*\u001b[0m\u001b[0margs\u001b[0m\u001b[0;34m,\u001b[0m \u001b[0;34m**\u001b[0m\u001b[0mkwargs\u001b[0m\u001b[0;34m)\u001b[0m\u001b[0;34m\u001b[0m\u001b[0;34m\u001b[0m\u001b[0m\n\u001b[0m\u001b[1;32m    332\u001b[0m \u001b[0;34m\u001b[0m\u001b[0m\n\u001b[1;32m    333\u001b[0m         \u001b[0;31m# error: \"Callable[[VarArg(Any), KwArg(Any)], Any]\" has no\u001b[0m\u001b[0;34m\u001b[0m\u001b[0;34m\u001b[0m\u001b[0m\n",
            "\u001b[0;32m/usr/local/lib/python3.10/dist-packages/pandas/io/excel/_base.py\u001b[0m in \u001b[0;36mread_excel\u001b[0;34m(io, sheet_name, header, names, index_col, usecols, squeeze, dtype, engine, converters, true_values, false_values, skiprows, nrows, na_values, keep_default_na, na_filter, verbose, parse_dates, date_parser, thousands, decimal, comment, skipfooter, convert_float, mangle_dupe_cols, storage_options)\u001b[0m\n\u001b[1;32m    480\u001b[0m     \u001b[0;32mif\u001b[0m \u001b[0;32mnot\u001b[0m \u001b[0misinstance\u001b[0m\u001b[0;34m(\u001b[0m\u001b[0mio\u001b[0m\u001b[0;34m,\u001b[0m \u001b[0mExcelFile\u001b[0m\u001b[0;34m)\u001b[0m\u001b[0;34m:\u001b[0m\u001b[0;34m\u001b[0m\u001b[0;34m\u001b[0m\u001b[0m\n\u001b[1;32m    481\u001b[0m         \u001b[0mshould_close\u001b[0m \u001b[0;34m=\u001b[0m \u001b[0;32mTrue\u001b[0m\u001b[0;34m\u001b[0m\u001b[0;34m\u001b[0m\u001b[0m\n\u001b[0;32m--> 482\u001b[0;31m         \u001b[0mio\u001b[0m \u001b[0;34m=\u001b[0m \u001b[0mExcelFile\u001b[0m\u001b[0;34m(\u001b[0m\u001b[0mio\u001b[0m\u001b[0;34m,\u001b[0m \u001b[0mstorage_options\u001b[0m\u001b[0;34m=\u001b[0m\u001b[0mstorage_options\u001b[0m\u001b[0;34m,\u001b[0m \u001b[0mengine\u001b[0m\u001b[0;34m=\u001b[0m\u001b[0mengine\u001b[0m\u001b[0;34m)\u001b[0m\u001b[0;34m\u001b[0m\u001b[0;34m\u001b[0m\u001b[0m\n\u001b[0m\u001b[1;32m    483\u001b[0m     \u001b[0;32melif\u001b[0m \u001b[0mengine\u001b[0m \u001b[0;32mand\u001b[0m \u001b[0mengine\u001b[0m \u001b[0;34m!=\u001b[0m \u001b[0mio\u001b[0m\u001b[0;34m.\u001b[0m\u001b[0mengine\u001b[0m\u001b[0;34m:\u001b[0m\u001b[0;34m\u001b[0m\u001b[0;34m\u001b[0m\u001b[0m\n\u001b[1;32m    484\u001b[0m         raise ValueError(\n",
            "\u001b[0;32m/usr/local/lib/python3.10/dist-packages/pandas/io/excel/_base.py\u001b[0m in \u001b[0;36m__init__\u001b[0;34m(self, path_or_buffer, engine, storage_options)\u001b[0m\n\u001b[1;32m   1693\u001b[0m         \u001b[0mself\u001b[0m\u001b[0;34m.\u001b[0m\u001b[0mstorage_options\u001b[0m \u001b[0;34m=\u001b[0m \u001b[0mstorage_options\u001b[0m\u001b[0;34m\u001b[0m\u001b[0;34m\u001b[0m\u001b[0m\n\u001b[1;32m   1694\u001b[0m \u001b[0;34m\u001b[0m\u001b[0m\n\u001b[0;32m-> 1695\u001b[0;31m         \u001b[0mself\u001b[0m\u001b[0;34m.\u001b[0m\u001b[0m_reader\u001b[0m \u001b[0;34m=\u001b[0m \u001b[0mself\u001b[0m\u001b[0;34m.\u001b[0m\u001b[0m_engines\u001b[0m\u001b[0;34m[\u001b[0m\u001b[0mengine\u001b[0m\u001b[0;34m]\u001b[0m\u001b[0;34m(\u001b[0m\u001b[0mself\u001b[0m\u001b[0;34m.\u001b[0m\u001b[0m_io\u001b[0m\u001b[0;34m,\u001b[0m \u001b[0mstorage_options\u001b[0m\u001b[0;34m=\u001b[0m\u001b[0mstorage_options\u001b[0m\u001b[0;34m)\u001b[0m\u001b[0;34m\u001b[0m\u001b[0;34m\u001b[0m\u001b[0m\n\u001b[0m\u001b[1;32m   1696\u001b[0m \u001b[0;34m\u001b[0m\u001b[0m\n\u001b[1;32m   1697\u001b[0m     \u001b[0;32mdef\u001b[0m \u001b[0m__fspath__\u001b[0m\u001b[0;34m(\u001b[0m\u001b[0mself\u001b[0m\u001b[0;34m)\u001b[0m\u001b[0;34m:\u001b[0m\u001b[0;34m\u001b[0m\u001b[0;34m\u001b[0m\u001b[0m\n",
            "\u001b[0;32m/usr/local/lib/python3.10/dist-packages/pandas/io/excel/_openpyxl.py\u001b[0m in \u001b[0;36m__init__\u001b[0;34m(self, filepath_or_buffer, storage_options)\u001b[0m\n\u001b[1;32m    555\u001b[0m         \"\"\"\n\u001b[1;32m    556\u001b[0m         \u001b[0mimport_optional_dependency\u001b[0m\u001b[0;34m(\u001b[0m\u001b[0;34m\"openpyxl\"\u001b[0m\u001b[0;34m)\u001b[0m\u001b[0;34m\u001b[0m\u001b[0;34m\u001b[0m\u001b[0m\n\u001b[0;32m--> 557\u001b[0;31m         \u001b[0msuper\u001b[0m\u001b[0;34m(\u001b[0m\u001b[0;34m)\u001b[0m\u001b[0;34m.\u001b[0m\u001b[0m__init__\u001b[0m\u001b[0;34m(\u001b[0m\u001b[0mfilepath_or_buffer\u001b[0m\u001b[0;34m,\u001b[0m \u001b[0mstorage_options\u001b[0m\u001b[0;34m=\u001b[0m\u001b[0mstorage_options\u001b[0m\u001b[0;34m)\u001b[0m\u001b[0;34m\u001b[0m\u001b[0;34m\u001b[0m\u001b[0m\n\u001b[0m\u001b[1;32m    558\u001b[0m \u001b[0;34m\u001b[0m\u001b[0m\n\u001b[1;32m    559\u001b[0m     \u001b[0;34m@\u001b[0m\u001b[0mproperty\u001b[0m\u001b[0;34m\u001b[0m\u001b[0;34m\u001b[0m\u001b[0m\n",
            "\u001b[0;32m/usr/local/lib/python3.10/dist-packages/pandas/io/excel/_base.py\u001b[0m in \u001b[0;36m__init__\u001b[0;34m(self, filepath_or_buffer, storage_options)\u001b[0m\n\u001b[1;32m    533\u001b[0m         )\n\u001b[1;32m    534\u001b[0m         \u001b[0;32mif\u001b[0m \u001b[0;32mnot\u001b[0m \u001b[0misinstance\u001b[0m\u001b[0;34m(\u001b[0m\u001b[0mfilepath_or_buffer\u001b[0m\u001b[0;34m,\u001b[0m \u001b[0;34m(\u001b[0m\u001b[0mExcelFile\u001b[0m\u001b[0;34m,\u001b[0m \u001b[0mself\u001b[0m\u001b[0;34m.\u001b[0m\u001b[0m_workbook_class\u001b[0m\u001b[0;34m)\u001b[0m\u001b[0;34m)\u001b[0m\u001b[0;34m:\u001b[0m\u001b[0;34m\u001b[0m\u001b[0;34m\u001b[0m\u001b[0m\n\u001b[0;32m--> 535\u001b[0;31m             self.handles = get_handle(\n\u001b[0m\u001b[1;32m    536\u001b[0m                 \u001b[0mfilepath_or_buffer\u001b[0m\u001b[0;34m,\u001b[0m \u001b[0;34m\"rb\"\u001b[0m\u001b[0;34m,\u001b[0m \u001b[0mstorage_options\u001b[0m\u001b[0;34m=\u001b[0m\u001b[0mstorage_options\u001b[0m\u001b[0;34m,\u001b[0m \u001b[0mis_text\u001b[0m\u001b[0;34m=\u001b[0m\u001b[0;32mFalse\u001b[0m\u001b[0;34m\u001b[0m\u001b[0;34m\u001b[0m\u001b[0m\n\u001b[1;32m    537\u001b[0m             )\n",
            "\u001b[0;32m/usr/local/lib/python3.10/dist-packages/pandas/io/common.py\u001b[0m in \u001b[0;36mget_handle\u001b[0;34m(path_or_buf, mode, encoding, compression, memory_map, is_text, errors, storage_options)\u001b[0m\n\u001b[1;32m    863\u001b[0m         \u001b[0;32melse\u001b[0m\u001b[0;34m:\u001b[0m\u001b[0;34m\u001b[0m\u001b[0;34m\u001b[0m\u001b[0m\n\u001b[1;32m    864\u001b[0m             \u001b[0;31m# Binary mode\u001b[0m\u001b[0;34m\u001b[0m\u001b[0;34m\u001b[0m\u001b[0m\n\u001b[0;32m--> 865\u001b[0;31m             \u001b[0mhandle\u001b[0m \u001b[0;34m=\u001b[0m \u001b[0mopen\u001b[0m\u001b[0;34m(\u001b[0m\u001b[0mhandle\u001b[0m\u001b[0;34m,\u001b[0m \u001b[0mioargs\u001b[0m\u001b[0;34m.\u001b[0m\u001b[0mmode\u001b[0m\u001b[0;34m)\u001b[0m\u001b[0;34m\u001b[0m\u001b[0;34m\u001b[0m\u001b[0m\n\u001b[0m\u001b[1;32m    866\u001b[0m         \u001b[0mhandles\u001b[0m\u001b[0;34m.\u001b[0m\u001b[0mappend\u001b[0m\u001b[0;34m(\u001b[0m\u001b[0mhandle\u001b[0m\u001b[0;34m)\u001b[0m\u001b[0;34m\u001b[0m\u001b[0;34m\u001b[0m\u001b[0m\n\u001b[1;32m    867\u001b[0m \u001b[0;34m\u001b[0m\u001b[0m\n",
            "\u001b[0;31mFileNotFoundError\u001b[0m: [Errno 2] No such file or directory: 'C:/Users/user/Downloads/5674-833_4th.zip/part4/시도별 전출입 인구수.xlsx'"
          ]
        }
      ]
    },
    {
      "cell_type": "code",
      "source": [
        "# 누락값(NaN)을 앞 데이터로 채움(엑셀 양식 병합 부분)\n",
        "df = df.fillna(method='ffill')\n",
        "\n",
        "# 서울에서 다른 지역으로 이동한 데이터만 추출하여 정리\n",
        "mask = (df['전출지별'] == '서울특별시') & (df['전입지별'] != '서울특별시')\n",
        "df_seoul = df[mask]\n",
        "df_seoul = df_seoul.drop(['전출지별'], axis=1)\n",
        "df_seoul.rename({'전입지별':'전입지'}, axis=1, inplace=True)\n",
        "df_seoul.set_index('전입지', inplace=True)"
      ],
      "metadata": {
        "colab": {
          "base_uri": "https://localhost:8080/",
          "height": 271
        },
        "id": "VB9vBDb9N_D6",
        "outputId": "a7c33318-b754-4602-faa1-b42f97c97e5d"
      },
      "execution_count": null,
      "outputs": [
        {
          "output_type": "error",
          "ename": "NameError",
          "evalue": "name 'df' is not defined",
          "traceback": [
            "\u001b[0;31m---------------------------------------------------------------------------\u001b[0m",
            "\u001b[0;31mNameError\u001b[0m                                 Traceback (most recent call last)",
            "\u001b[0;32m<ipython-input-1-990599dcb2a6>\u001b[0m in \u001b[0;36m<cell line: 2>\u001b[0;34m()\u001b[0m\n\u001b[1;32m      1\u001b[0m \u001b[0;31m# 누락값(NaN)을 앞 데이터로 채움(엑셀 양식 병합 부분)\u001b[0m\u001b[0;34m\u001b[0m\u001b[0;34m\u001b[0m\u001b[0m\n\u001b[0;32m----> 2\u001b[0;31m \u001b[0mdf\u001b[0m \u001b[0;34m=\u001b[0m \u001b[0mdf\u001b[0m\u001b[0;34m.\u001b[0m\u001b[0mfillna\u001b[0m\u001b[0;34m(\u001b[0m\u001b[0mmethod\u001b[0m\u001b[0;34m=\u001b[0m\u001b[0;34m'ffill'\u001b[0m\u001b[0;34m)\u001b[0m\u001b[0;34m\u001b[0m\u001b[0;34m\u001b[0m\u001b[0m\n\u001b[0m\u001b[1;32m      3\u001b[0m \u001b[0;34m\u001b[0m\u001b[0m\n\u001b[1;32m      4\u001b[0m \u001b[0;31m# 서울에서 다른 지역으로 이동한 데이터만 추출하여 정리\u001b[0m\u001b[0;34m\u001b[0m\u001b[0;34m\u001b[0m\u001b[0m\n\u001b[1;32m      5\u001b[0m \u001b[0mmask\u001b[0m \u001b[0;34m=\u001b[0m \u001b[0;34m(\u001b[0m\u001b[0mdf\u001b[0m\u001b[0;34m[\u001b[0m\u001b[0;34m'전출지별'\u001b[0m\u001b[0;34m]\u001b[0m \u001b[0;34m==\u001b[0m \u001b[0;34m'서울특별시'\u001b[0m\u001b[0;34m)\u001b[0m \u001b[0;34m&\u001b[0m \u001b[0;34m(\u001b[0m\u001b[0mdf\u001b[0m\u001b[0;34m[\u001b[0m\u001b[0;34m'전입지별'\u001b[0m\u001b[0;34m]\u001b[0m \u001b[0;34m!=\u001b[0m \u001b[0;34m'서울특별시'\u001b[0m\u001b[0;34m)\u001b[0m\u001b[0;34m\u001b[0m\u001b[0;34m\u001b[0m\u001b[0m\n",
            "\u001b[0;31mNameError\u001b[0m: name 'df' is not defined"
          ]
        }
      ]
    },
    {
      "cell_type": "markdown",
      "source": [
        "df_seoul '전입지'가 '경기도'인 행 데이터를 선택하여 sr_one에 저장한다."
      ],
      "metadata": {
        "id": "uv3cBURvPHby"
      }
    },
    {
      "cell_type": "code",
      "source": [
        "# 서울에서 경기도로 이동한 인구 데이터 값만 선택\n",
        "sr_one = df_seoul.loc['경기도']"
      ],
      "metadata": {
        "id": "LpLooh5qOjHG"
      },
      "execution_count": null,
      "outputs": []
    },
    {
      "cell_type": "markdown",
      "source": [
        "선그래프를 그리는 plot() 함수에 입력할 x,y축 데이터를 선택한다. 시리즈의 인덱스를 x축 데이터로, 데이터 값을 y축 데이터로 plot() 함수에 전달한다."
      ],
      "metadata": {
        "id": "N3EEgBluPc2N"
      }
    },
    {
      "cell_type": "code",
      "source": [
        "# x,y축 데이터를 plot 함수에 입력\n",
        "plt.plot(sr_one.index, sr_one.values)"
      ],
      "metadata": {
        "id": "J81Ej2JDPsQs"
      },
      "execution_count": null,
      "outputs": []
    },
    {
      "cell_type": "markdown",
      "source": [
        "plt.plot(sr_one)으로 입력해도 앞의 실행 결과와 같은 값을 얻는다."
      ],
      "metadata": {
        "id": "IK5R6ub2P6aD"
      }
    },
    {
      "cell_type": "code",
      "source": [
        "# 판다스 객체를 plot 함수에 입력\n",
        "plt.plot(sr_one)"
      ],
      "metadata": {
        "id": "r4RcFshQQEKV"
      },
      "execution_count": null,
      "outputs": []
    },
    {
      "cell_type": "markdown",
      "source": [
        "\n",
        "\n",
        "### *   차트 제목, 축 이름 추가\n",
        "\n",
        "그래프 객체에 차트 제목을 추가할 때는 title () 함수를 사용한다.\n",
        "x축 이름은 xlabel() 함수를 이용하고, y축 이름은 ylabel() 함수를 활용하여 추가\n"
      ],
      "metadata": {
        "id": "Qa9_xPQiQUH3"
      }
    },
    {
      "cell_type": "code",
      "source": [
        "#서울에서 경기도로 이동한 인구데이터 값만 선택\n",
        "sr_one = df_seoul.loc['경기도']\n",
        "\n",
        "#x,y축 데이터를 plot 함수에 입력\n",
        "plt.plot(sr_one.index, sr_one.values)\n",
        "\n",
        "#차트 제목 추가\n",
        "plt.title('서울 -> 경기 인구 이동')\n",
        "\n",
        "#축 이름 추가\n",
        "plt.xlabel('기간')\n",
        "plt.ylabel('이동 인구수')\n",
        "\n",
        "plt.show() # 변경사항 저장하고 그래프 출력"
      ],
      "metadata": {
        "id": "6Jnco0e5QmHM"
      },
      "execution_count": null,
      "outputs": []
    },
    {
      "cell_type": "markdown",
      "source": [
        "\n",
        "\n",
        "*   Matplotlib 한글 폰트 오류 해결\n",
        " Matplotlib은 한글 폰트를 지원하지 않는 문제가 있다.\n",
        " -> Matplotlib을 사용하는 파이썬 프로그램의 앞부분에 한글 폰트를 지정하는 다음의 코드를 추가한다.\n",
        "\n"
      ],
      "metadata": {
        "id": "eW6d8_oURGPU"
      }
    },
    {
      "cell_type": "code",
      "source": [
        "#matplotlib 한글 폰트 오류 문제 해결\n",
        "from matplotlib import font_manager, rc\n",
        "font_path = \"./malgun.ttf\" #폰트 파일 위치\n",
        "font_name = font_manager.FontProperties(fname=font_path).get_name()\n",
        "rc('font', family=font_name)"
      ],
      "metadata": {
        "id": "mWZmtES-RWIK"
      },
      "execution_count": null,
      "outputs": []
    },
    {
      "cell_type": "code",
      "source": [
        "#라이브러리 불러오기\n",
        "import pandas as pd\n",
        "import matplotlib.pyplot as plt\n",
        "\n",
        "#matplotlib 한글 폰트 오류 문제 해결\n",
        "from matplotlib import font_manager,rc\n",
        "font_path = \"./malgun.ttf\" #폰트 파일 위치\n",
        "font_name = font_manager.FontProperties(fname=font_path).get_name()\n",
        "rc('font', family=font_name)\n",
        "\n",
        "# Excel 데이터를 데이터프레임으로 변환\n",
        "df = pd.read_excel('시도별 전출입 인구수.xlsx', engine= 'openpyxl', header=0)\n",
        "\n",
        "# 전출지별에서 누락값(NaN)을 앞 데이터로 채움(엑셀 양식 병합 부분)\n",
        "df = df.fillna(method='ffill')\n",
        "\n",
        "# 서울에서 다른 지역으로 이동한 데이터만 추출하여 정리\n",
        "mask = (df['전출지별'] == '서울특별시') & (df['전입지별'] != '서울특별시')\n",
        "df_seoul = df[mask]\n",
        "df_seou; = df_seoul.drop(['전출지별'], axis=1)\n",
        "df_seoul.rename({'전입지별':'전입지'}, axis=1, inplace=True)\n",
        "\n",
        "# 서울에서 경기도로 이동한 인구 데이터 값만 선택\n",
        "sr_one = df_seoul.loc['경기도']\n",
        "\n",
        "# x, y축 데이터를 plot 함수에 입력\n",
        "plt.plot(sr_one.index, sr_one.values)\n",
        "\n",
        "#차트 제목 추가\n",
        "plt.title('서울 -> 경기 인구 이동')\n",
        "\n",
        "#축 이름 추가\n",
        "plt.xlabel('기간')\n",
        "plt.ylabel('이동 인구수')\n",
        "\n",
        "plt.show() # 변경사항 저장하고 그래프 출력\n",
        "\n"
      ],
      "metadata": {
        "id": "o72E3IMYStTH"
      },
      "execution_count": null,
      "outputs": []
    },
    {
      "cell_type": "markdown",
      "source": [
        "\n",
        "### *   그래프 꾸미기\n",
        "*   x축 눈금 라벨의 글씨가 서로 겹쳐 잘 보이지 않을 때\n",
        "\n",
        "-> 공간을 만들기 위해 figure()함수로 그림틀의 가로 사이즈를 더 크게 설정\n",
        "\n",
        "-> xticks()함수를 활용해 x축 눈금 라벨을 반시계 방향으로 90도 회전하여 글씨가 서로 겹치지 않게 함\n",
        "\n"
      ],
      "metadata": {
        "id": "PUDFOMgxPpnZ"
      }
    },
    {
      "cell_type": "code",
      "source": [
        "# 서울에서 경기도로 이동한 인구 데이터 값만 선택\n",
        "sr_one=df_seoul.loc['경기도']\n",
        "\n",
        "# 그림 사이즈 지정(가로 14인치, 세로 5인치)\n",
        "plt.figure(figsize=(14,5))\n",
        "\n",
        "# x축 눈금 라벨 회전하기\n",
        "plt.xticks(rotation='vertical')\n",
        "\n",
        "# x, y축 데이터를 plot 함수에 입력\n",
        "plt.plot(sr_one.index, sr_one.values)\n",
        "\n",
        "plt.title('서울-> 경기 인구 이동') #차트 제목\n",
        "plt.xlabel('기간') # x축 이름\n",
        "plt.ylabel('이동 인구수') # y축 이름\n",
        "\n",
        "plt.legend(labels=['서울 -> 경기'], loc='best') # 범례 표시\n",
        "\n",
        "plt.show() # 변경사항 저장하고 그래프 출력"
      ],
      "metadata": {
        "id": "McxpvNaaP_aC"
      },
      "execution_count": null,
      "outputs": []
    },
    {
      "cell_type": "code",
      "source": [
        "#서울에서 경기도로 이동한 인구 데이터 값만 선택\n",
        "sr_one = df_seoul.loc['경기도']\n",
        "\n",
        "#스타일 서식 지정\n",
        "plt.style.use('ggplot')\n",
        "\n",
        "#그림 사이즈 지정\n",
        "plt.figure(figsize=(14,5))\n",
        "\n",
        "#x축 눈금 라벨 회전하기\n",
        "plt.xticks(size=10, rotation='vertical')\n",
        "\n",
        "#x, y축 데이터를 plot 함수에 입력\n",
        "plt.plot(sr_one.index, sr_one.values, marker='o', markersize=10) # 마커 표시 추가\n",
        "\n",
        "plt.title('서울 -> 경기 인구 이동', size=30) #차트 제목\n",
        "plt.xlabel('기간', size=20) #x축 이름\n",
        "plt.ylabel('이동 인구수', size=20) #y축 이름\n",
        "\n",
        "plt.legend(labels=['서울->경기'], loc='best', fontsize=15) # 범례표시\n",
        "\n",
        "plt.show() #변경사항 저장하고 그래프 출력"
      ],
      "metadata": {
        "id": "O4zpCY6aQ9J-"
      },
      "execution_count": null,
      "outputs": []
    },
    {
      "cell_type": "code",
      "source": [
        "# 라이브러리 불러오기\n",
        "import matplotlib.pyplot as plt\n",
        "\n",
        "# 스타일 리스트 출력\n",
        "print(plt.style.available)"
      ],
      "metadata": {
        "id": "nDmdUsdW5Zf_"
      },
      "execution_count": null,
      "outputs": []
    },
    {
      "cell_type": "markdown",
      "source": [
        "### *   주석 달기 - annotate() 함수를 사용\n",
        "*   주석 내용을 넣을 위치와 정렬 방법 등을 annotate() 함수에 함께 전달\n",
        "*   arrowprops 옵션을 사용하면 텍스트 대신 화살표가 표시\n",
        "\n",
        "\n",
        "\n"
      ],
      "metadata": {
        "id": "_uZ9FVKV5pyR"
      }
    },
    {
      "cell_type": "code",
      "source": [
        "#y축 범위 지정(최소값, 최대값)\n",
        "plt.ylim(50000, 800000)\n",
        "\n",
        "#주석 표시 - 화살표\n",
        "plt.annotate('', xy=(20, 620000), #화살표의 머리 부분(끝점)\n",
        "             xytext=(2,290000), #화살표의 꼬리 부분(시작점)\n",
        "             xycoords='data', #좌표체계\n",
        "             arrowprops = dict(arrowstyle='->', color='skyblue', lw=5), #화살표 서식\n",
        "             )\n",
        "\n",
        "plt,annotate('', xy(47,450000), #화살표의 머리 부분(끝점)\n",
        "             xytext=(30,580000), #화살표의 꼬리 부분(시작점)\n",
        "             xycoords='data', #좌표체계\n",
        "             arrowprops=dict(arrowstyle='->', color='olive', lw=5), #화살표 서식\n",
        "             )\n",
        "\n",
        "#주석 표시 - 텍스트\n",
        "plt.annotate('인구 이동 증가(1970-1995)', #텍스트 입력\n",
        "             xy=(10,550000), #텍스트 위치 기준점\n",
        "             rotation=25, #텍스트 회전 각도\n",
        "             va = 'baseline' #텍스트 상하 정렬\n",
        "             ha = 'center', #텍스트 좌우 정렬\n",
        "             fontsize=15, #텍스트 크기\n",
        "             )\n",
        "\n",
        "plt.annotate('인구 이동 감소(1995-2017)', #텍스트 입력\n",
        "             xy = (40,560000), #텍스트 위치 기준점\n",
        "             rotation=-11, #텍스트 회전 각도\n",
        "             va = 'baseline', #텍스트 상하 정렬\n",
        "             ha = 'center', #텍스트 좌우 정렬\n",
        "             fontsize=15, #텍스트 크기\n",
        "             )"
      ],
      "metadata": {
        "id": "AaxBpF-K6Dqq"
      },
      "execution_count": null,
      "outputs": []
    },
    {
      "cell_type": "markdown",
      "source": [
        "### *   화면 분할하여 그래프 여러 개 그리기 - axe 객체 활용\n",
        "\n",
        "*   화면을 여러 개로 분할하고 분활된 각 화면에 서로 다른 그래프를 그리는 방법\n",
        "*   여러개의 axe 객체를 만들고, 분할된 화면마다 axe 객체를 하나씩 배정한다.\n",
        "*   figure() 함수를 사용하여 그래프를 그리는 그림틀(fig)을 만든다.\n",
        "\n",
        "\n",
        "\n",
        "\n",
        "*   figsize 옵션으로 (가로, 세로) 그림틀의 크기를 설정한다.\n",
        "*   fig 객체에 add_subplot()메소드를 적용해 그림틀을 여러개로 분할한다 -> 나눠진 각 부분을 axe 객체라고 함\n",
        "- add_subplot() 메소드의 인자에 \"행의 크기, 열의 크기, 서브플롯 순서\"를 순서대로 입력\n",
        "\n",
        "\n",
        "\n",
        "\n"
      ],
      "metadata": {
        "id": "cPbiNOTF8IpZ"
      }
    },
    {
      "cell_type": "code",
      "source": [
        "# 그래프 객체 생성(figure에 2개의 서브 플롯 생성)\n",
        "fig = plt.figure(figsize=(10,10))\n",
        "ax1 = fig.add_subplot(2,1,1)\n",
        "ax2 = fig.add_subplot(2,1,2)\n",
        "\n",
        "#axe 객체에 plot 함수로 그래프 출력\n",
        "ax1.plot(sr_one, 'o', markersizer=10)\n",
        "ax2.plot(sr_one, marker='o', markerfacecolor='green', markersize=10, color='olive', linewidth=2, label='서울 -> 경기')\n",
        "ax2.legend(loc='best')\n",
        "\n",
        "#y축 범위 지정(최소값, 최대값)\n",
        "ax1.set_ylim(50000,800000)\n",
        "ax2.set_ylim(50000,800000)\n",
        "\n",
        "#축 눈금 라벨 지정 및 75도 회전\n",
        "ax1.set_xticklabels(sr_one.index, rotation=75)\n",
        "ax2.set_xticklabels(sr_one.index, rotation=75)\n",
        "\n",
        "plt.show() # 변경사항 저장하고 그래프 출력"
      ],
      "metadata": {
        "id": "DUnRspWn883Z"
      },
      "execution_count": null,
      "outputs": []
    },
    {
      "cell_type": "code",
      "source": [
        "#그래프 객체 생성(figure에 1개의 서브 플롯 생성)\n",
        "fig = plt.figure(figsize=(20,5))\n",
        "ax=fig.add_subplot(1,1,1)\n",
        "\n",
        "#axe 객체에 plot 함수로 그래프 출력\n",
        "ax.plot(sr_one, marker='o', markerfacecolor='orange', markersize=10, color='olive', linewidth=2, label='서울 -> 경기')\n",
        "ax.legend(loc='best')\n",
        "\n",
        "#y축 범위 지정(최소값, 최대값)\n",
        "ax.set_ylim(50000, 800000)\n",
        "\n",
        "#차트 제목 추가\n",
        "ax.set_title('서울 -> 경기 인구 이동', size=20)\n",
        "\n",
        "#축 이름 추가\n",
        "ax.set_xlabel('기간', size=12)\n",
        "ax.set_ylabel('이동 인구수', size=12)\n",
        "\n",
        "#축 눈금 라벨 지정 및 75도 회전\n",
        "ax.set_xticklabels(sr_one.index, rotation=75)\n",
        "\n",
        "#축 눈금 라벨 크기\n",
        "ax.tick_params(axis=\"x\", labelsize=10)\n",
        "ax.tick_params(axis=\"y\", labelsie=10)\n",
        "\n",
        "plt.show() # 변경사항 저장하고 그래프 출력"
      ],
      "metadata": {
        "id": "Zl6qi-Ri-V9u"
      },
      "execution_count": null,
      "outputs": []
    },
    {
      "cell_type": "code",
      "source": [
        "# 서울에서 '충청남도', '경상북도', '강원도'로 이동한 인구 데이터 값만 선택\n",
        "col_years=list(map(str,range(1970,2018)))\n",
        "df_3 = df_seoul.loc[['충청남도','경상북도','강원도'], col_years]\n",
        "\n",
        "# 스타일 서식 지정\n",
        "plt.style.use('ggplot')\n",
        "\n",
        "# 그래프 객체 생성(figure에 1개의 서브 플롯 생성)\n",
        "fig = plt.figure(figsize=(20,5))\n",
        "ax = fig.add_subplot(1,1,1)\n",
        "\n",
        "# axe 객체에 plot 함수로 그래프 출력\n",
        "ax.plot(col_years, df_3.loc['충청남도',:], marker='o', markerfacecolor='green', markersize=10, color='olive', linewidth=2, label='서울 -> 충남')\n",
        "ax.plot(col_years, df_3.loc['경상북도',:], marker='o', markerfacecolor='blue', markersize=10, color='skyblue', linewidth=2, label='서울 -> 경북')\n",
        "ax.plot(col_years, df_3.loc['강원도',:], marker='o', markerfacecolor='red', markersize=10, color='magenta', linewidth=2, label='서울->강원')\n",
        "\n",
        "#범례 표시\n",
        "ax.legend(loc='best')\n",
        "\n",
        "#차트 제목 추가\n",
        "ax.set_title('서울 -> 충남, 경북, 강원 인구 이동', size=20)\n",
        "\n",
        "#축 이름 추가\n",
        "ax.set_xlabel('기간', size=12)\n",
        "ax.set_ylabel('이동 인구수', size=12)\n",
        "\n",
        "#축 눈금 라벨 지정 및 90도 회전\n",
        "ax.set_xticklabels(col_years, rotation=90)\n",
        "\n",
        "#축 눈금 라벨 크기\n",
        "ax.tick_params(axis=\"x\", labelsize=10)\n",
        "ax.tick_params(axis=\"y\", labelsize=10)\n",
        "\n",
        "plt.show() #변경사항 저장하고 그래프 출력"
      ],
      "metadata": {
        "colab": {
          "base_uri": "https://localhost:8080/",
          "height": 219
        },
        "id": "PYJXa9gOOLer",
        "outputId": "d4937444-dcce-42d7-a8d6-99e627b14730"
      },
      "execution_count": null,
      "outputs": [
        {
          "output_type": "error",
          "ename": "NameError",
          "evalue": "name 'df_seoul' is not defined",
          "traceback": [
            "\u001b[0;31m---------------------------------------------------------------------------\u001b[0m",
            "\u001b[0;31mNameError\u001b[0m                                 Traceback (most recent call last)",
            "\u001b[0;32m<ipython-input-1-e2518e777cc1>\u001b[0m in \u001b[0;36m<cell line: 3>\u001b[0;34m()\u001b[0m\n\u001b[1;32m      1\u001b[0m \u001b[0;31m# 서울에서 '충청남도', '경상북도', '강원도'로 이동한 인구 데이터 값만 선택\u001b[0m\u001b[0;34m\u001b[0m\u001b[0;34m\u001b[0m\u001b[0m\n\u001b[1;32m      2\u001b[0m \u001b[0mcol_years\u001b[0m\u001b[0;34m=\u001b[0m\u001b[0mlist\u001b[0m\u001b[0;34m(\u001b[0m\u001b[0mmap\u001b[0m\u001b[0;34m(\u001b[0m\u001b[0mstr\u001b[0m\u001b[0;34m,\u001b[0m\u001b[0mrange\u001b[0m\u001b[0;34m(\u001b[0m\u001b[0;36m1970\u001b[0m\u001b[0;34m,\u001b[0m\u001b[0;36m2018\u001b[0m\u001b[0;34m)\u001b[0m\u001b[0;34m)\u001b[0m\u001b[0;34m)\u001b[0m\u001b[0;34m\u001b[0m\u001b[0;34m\u001b[0m\u001b[0m\n\u001b[0;32m----> 3\u001b[0;31m \u001b[0mdf_3\u001b[0m \u001b[0;34m=\u001b[0m \u001b[0mdf_seoul\u001b[0m\u001b[0;34m.\u001b[0m\u001b[0mloc\u001b[0m\u001b[0;34m[\u001b[0m\u001b[0;34m[\u001b[0m\u001b[0;34m'충청남도'\u001b[0m\u001b[0;34m,\u001b[0m\u001b[0;34m'경상북도'\u001b[0m\u001b[0;34m,\u001b[0m\u001b[0;34m'강원도'\u001b[0m\u001b[0;34m]\u001b[0m\u001b[0;34m,\u001b[0m \u001b[0mcol_years\u001b[0m\u001b[0;34m]\u001b[0m\u001b[0;34m\u001b[0m\u001b[0;34m\u001b[0m\u001b[0m\n\u001b[0m\u001b[1;32m      4\u001b[0m \u001b[0;34m\u001b[0m\u001b[0m\n\u001b[1;32m      5\u001b[0m \u001b[0;31m# 스타일 서식 지정\u001b[0m\u001b[0;34m\u001b[0m\u001b[0;34m\u001b[0m\u001b[0m\n",
            "\u001b[0;31mNameError\u001b[0m: name 'df_seoul' is not defined"
          ]
        }
      ]
    },
    {
      "cell_type": "code",
      "source": [
        "# 서울에서 충청남도, 경상북도, 강원도, 전라남도로 이동한 인구 데이터 값만 선택\n",
        "col_years = list(map(str, range(1970, 2018)))\n",
        "df_4 = df_seoul.loc[['충청남도', '경상북도', '강원도', '전라남도'], col_years]\n",
        "\n",
        "# 스타일 서식 지정\n",
        "plt.style.use('ggplot')\n",
        "\n",
        "# 그래프 객체 지정(figure에 1개의 서브 플롯 생성)\n",
        "fig = plt.figure(figsize = (20,10))\n",
        "ax1 = fig.add_subplot(2,2,1)\n",
        "ax2 = fig.add_subplot(2,2,2)\n",
        "ax3 = fig.add_subplot(2,2,3)\n",
        "ax4 = fig.add_subplot(2,2,4)\n",
        "\n",
        "# axe 객체에 plot 함수로 그래프 출력\n",
        "ax1.plot(col_years, df_4.loc['충청남도',:],marker='o',\n",
        "         markerfacecolor='green', linewidth=2, label='서울->충남')\n",
        "ax2.plot(col_years, df_4.loc['경상북도',:],marker='o',\n",
        "         markerfacecolor='blue', linewidth=2, label='서울->경북')\n",
        "ax3.plot(col_years, df_4.loc['강원도',:],marker='o',\n",
        "         markerfacecolor='magenta', linewidth=2, label='서울->강원')\n",
        "ax4.plot(col_years, df_4.loc['전라남도',:],marker='o',\n",
        "         markerfacecolor='yellow', linewidth=2, label='서울->전남')\n",
        "\n",
        "# 범례 표시\n",
        "ax1.legend(loc='best')\n",
        "ax2.legend(loc='best')\n",
        "ax3.legend(loc='best')\n",
        "ax4.legend(loc='best')\n",
        "\n",
        "# 차트제목추가\n",
        "ax1.set_title('서울->충남 인구 이동', size=15)\n",
        "ax2.set_title('서울->경북 인구 이동', size=15)\n",
        "ax3.set_title('서울->강원 인구 이동', size=15)\n",
        "ax4.set_title('서울->전남 인구 이동', size=15)\n",
        "\n",
        "# 축 눈금 라벨 지정 및 90도 회전\n",
        "ax1.set_xticklabels(col_years, rotation=90)\n",
        "ax2.set_xticklabels(col_years, rotation=90)\n",
        "ax3.set_xticklabels(col_years, rotation=90)\n",
        "ax4.set_xticklabels(col_years, rotation=90)\n",
        "\n",
        "plt.show()\n"
      ],
      "metadata": {
        "id": "abFZewiMP5yZ"
      },
      "execution_count": null,
      "outputs": []
    },
    {
      "cell_type": "markdown",
      "source": [
        "\n",
        "\n",
        "*   matplotlib 스타일 리스트 출력 - 색상 지정하기\n",
        "\n",
        "\n"
      ],
      "metadata": {
        "id": "srRchLC8ZbkA"
      }
    },
    {
      "cell_type": "code",
      "source": [
        "# 라이브러리 불러오기\n",
        "import matplotlib\n",
        "\n",
        "#컬러 정보를 담을 빈 딕셔너리 생성\n",
        "colors={}\n",
        "\n",
        "#컬러 이름과 헥사코드 확인하여 딕셔너리에 입력\n",
        "for name, hex in matplotlib.colors.cnames.items() :\n",
        "  colors[name]=hex\n",
        "\n",
        "#딕셔너리 출력\n",
        "print(colors)"
      ],
      "metadata": {
        "colab": {
          "base_uri": "https://localhost:8080/"
        },
        "id": "8UYMKKLJZiEX",
        "outputId": "3fa35006-d7b5-440a-b1b0-2a1e85b05f70"
      },
      "execution_count": null,
      "outputs": [
        {
          "output_type": "stream",
          "name": "stdout",
          "text": [
            "{'aliceblue': '#F0F8FF', 'antiquewhite': '#FAEBD7', 'aqua': '#00FFFF', 'aquamarine': '#7FFFD4', 'azure': '#F0FFFF', 'beige': '#F5F5DC', 'bisque': '#FFE4C4', 'black': '#000000', 'blanchedalmond': '#FFEBCD', 'blue': '#0000FF', 'blueviolet': '#8A2BE2', 'brown': '#A52A2A', 'burlywood': '#DEB887', 'cadetblue': '#5F9EA0', 'chartreuse': '#7FFF00', 'chocolate': '#D2691E', 'coral': '#FF7F50', 'cornflowerblue': '#6495ED', 'cornsilk': '#FFF8DC', 'crimson': '#DC143C', 'cyan': '#00FFFF', 'darkblue': '#00008B', 'darkcyan': '#008B8B', 'darkgoldenrod': '#B8860B', 'darkgray': '#A9A9A9', 'darkgreen': '#006400', 'darkgrey': '#A9A9A9', 'darkkhaki': '#BDB76B', 'darkmagenta': '#8B008B', 'darkolivegreen': '#556B2F', 'darkorange': '#FF8C00', 'darkorchid': '#9932CC', 'darkred': '#8B0000', 'darksalmon': '#E9967A', 'darkseagreen': '#8FBC8F', 'darkslateblue': '#483D8B', 'darkslategray': '#2F4F4F', 'darkslategrey': '#2F4F4F', 'darkturquoise': '#00CED1', 'darkviolet': '#9400D3', 'deeppink': '#FF1493', 'deepskyblue': '#00BFFF', 'dimgray': '#696969', 'dimgrey': '#696969', 'dodgerblue': '#1E90FF', 'firebrick': '#B22222', 'floralwhite': '#FFFAF0', 'forestgreen': '#228B22', 'fuchsia': '#FF00FF', 'gainsboro': '#DCDCDC', 'ghostwhite': '#F8F8FF', 'gold': '#FFD700', 'goldenrod': '#DAA520', 'gray': '#808080', 'green': '#008000', 'greenyellow': '#ADFF2F', 'grey': '#808080', 'honeydew': '#F0FFF0', 'hotpink': '#FF69B4', 'indianred': '#CD5C5C', 'indigo': '#4B0082', 'ivory': '#FFFFF0', 'khaki': '#F0E68C', 'lavender': '#E6E6FA', 'lavenderblush': '#FFF0F5', 'lawngreen': '#7CFC00', 'lemonchiffon': '#FFFACD', 'lightblue': '#ADD8E6', 'lightcoral': '#F08080', 'lightcyan': '#E0FFFF', 'lightgoldenrodyellow': '#FAFAD2', 'lightgray': '#D3D3D3', 'lightgreen': '#90EE90', 'lightgrey': '#D3D3D3', 'lightpink': '#FFB6C1', 'lightsalmon': '#FFA07A', 'lightseagreen': '#20B2AA', 'lightskyblue': '#87CEFA', 'lightslategray': '#778899', 'lightslategrey': '#778899', 'lightsteelblue': '#B0C4DE', 'lightyellow': '#FFFFE0', 'lime': '#00FF00', 'limegreen': '#32CD32', 'linen': '#FAF0E6', 'magenta': '#FF00FF', 'maroon': '#800000', 'mediumaquamarine': '#66CDAA', 'mediumblue': '#0000CD', 'mediumorchid': '#BA55D3', 'mediumpurple': '#9370DB', 'mediumseagreen': '#3CB371', 'mediumslateblue': '#7B68EE', 'mediumspringgreen': '#00FA9A', 'mediumturquoise': '#48D1CC', 'mediumvioletred': '#C71585', 'midnightblue': '#191970', 'mintcream': '#F5FFFA', 'mistyrose': '#FFE4E1', 'moccasin': '#FFE4B5', 'navajowhite': '#FFDEAD', 'navy': '#000080', 'oldlace': '#FDF5E6', 'olive': '#808000', 'olivedrab': '#6B8E23', 'orange': '#FFA500', 'orangered': '#FF4500', 'orchid': '#DA70D6', 'palegoldenrod': '#EEE8AA', 'palegreen': '#98FB98', 'paleturquoise': '#AFEEEE', 'palevioletred': '#DB7093', 'papayawhip': '#FFEFD5', 'peachpuff': '#FFDAB9', 'peru': '#CD853F', 'pink': '#FFC0CB', 'plum': '#DDA0DD', 'powderblue': '#B0E0E6', 'purple': '#800080', 'rebeccapurple': '#663399', 'red': '#FF0000', 'rosybrown': '#BC8F8F', 'royalblue': '#4169E1', 'saddlebrown': '#8B4513', 'salmon': '#FA8072', 'sandybrown': '#F4A460', 'seagreen': '#2E8B57', 'seashell': '#FFF5EE', 'sienna': '#A0522D', 'silver': '#C0C0C0', 'skyblue': '#87CEEB', 'slateblue': '#6A5ACD', 'slategray': '#708090', 'slategrey': '#708090', 'snow': '#FFFAFA', 'springgreen': '#00FF7F', 'steelblue': '#4682B4', 'tan': '#D2B48C', 'teal': '#008080', 'thistle': '#D8BFD8', 'tomato': '#FF6347', 'turquoise': '#40E0D0', 'violet': '#EE82EE', 'wheat': '#F5DEB3', 'white': '#FFFFFF', 'whitesmoke': '#F5F5F5', 'yellow': '#FFFF00', 'yellowgreen': '#9ACD32'}\n"
          ]
        }
      ]
    },
    {
      "cell_type": "markdown",
      "source": [
        "### 1-2 면적 그래프\n",
        "\n",
        "\n",
        "\n",
        "*   선 그래프를 그리는 plot() 메소드에 kind='area' 옵션을 추가하면 간단하게 그릴 수 있음\n",
        "*   stacked=True : 그래프 누적 여부\n",
        "- stacked=False 옵션 -> 각 열의 선 그래프들이 누적되지 않고 서로 겹치도록 표시\n",
        "\n"
      ],
      "metadata": {
        "id": "fT8MIYgjZ77m"
      }
    },
    {
      "cell_type": "code",
      "source": [
        "# 서울에서 다른 지역으로 이동한 데이터만 추출하여 정리\n",
        "mask = (df['전출지별'] == '서울특별시') & (df['전입지별'] != '서울특별시')\n",
        "df_seoul = df[mask]\n",
        "df_seoul = df_seoul.drop(['전출지별'], axis=1)\n",
        "df_seoul.rename({'전입지별':'전입지'}, axis=1, inplace=True)\n",
        "df_seoul.set_index('전입지', inplace=True)\n",
        "\n",
        "# 서울에서 '충청남도', '경상북도', '강원도', '전라남도'로 이동한 인구 데이터 값만 선택\n",
        "col_years = list(map(str, range(1970,2018)))\n",
        "df_4 = df_seoul.loc(['충청남도', '경상북도', '강원도', '전라남도'], col_years)\n",
        "df_4 = df_4.transpose()\n",
        "\n",
        "# 스타일 서식 지정\n",
        "plt.stlye.use('ggplot')\n",
        "\n",
        "# 데이터프레임의 인덱스를 정수형으로 변경(x축 눈금 라벨 표시)\n",
        "df_4.plot(kind='area', stacked=False, alpha=0.2, figsize=(20,10))\n",
        "\n",
        "plt.title('서울 -> 타시도 인구 이동', size=30)\n",
        "plt.ylabel('이동 인구 수', size=20)\n",
        "plt.xlabel('기간', size=20)\n",
        "plt.legend(loc='best', fontsize=15)\n",
        "\n",
        "plt.show()\n"
      ],
      "metadata": {
        "id": "MKXoRFJ3Pvqs"
      },
      "execution_count": null,
      "outputs": []
    },
    {
      "cell_type": "code",
      "source": [
        "# 데이터프레임의 인덱스를 정수형으로 변경(x축 눈금 라벨 표시)\n",
        "df_4.index = df_4.index.map(int)\n",
        "\n",
        "# 면적 그래프 그리기\n",
        "df_4.plot(kind='area', stacked=True, alpha=0.2, figsize=(20,10))\n",
        "\n",
        "plt.title('서울 -> 타시도 인구 이동', size=30)\n",
        "plt.ylabel('이동 인구 수', size=20)\n",
        "plt.xlabel('기간', size=20)\n",
        "plt.legend(loc='best', fontsize=15)\n",
        "\n",
        "plt.show()"
      ],
      "metadata": {
        "id": "fhKkwJhPSVMx"
      },
      "execution_count": null,
      "outputs": []
    },
    {
      "cell_type": "markdown",
      "source": [
        "앞에서 plot() 메소드로 생성한 그래프는 axe 객체이다. 다음과 같이 axe 객체(ax)의 세부적인 요소를 설정할 수 있다."
      ],
      "metadata": {
        "id": "2Ela1am_TaSz"
      }
    },
    {
      "cell_type": "code",
      "source": [
        "# 데이터 프레임의 인덱스를 정수형으로 변경(x축 눈금 라벨 표시)\n",
        "df_4.index = df_4.index.map(int)\n",
        "\n",
        "# 면적 그래프 axe 객체 생성\n",
        "ax = df_4.plot(kind='area', stacked=True, alpha=0.2, figsize=(20,10))\n",
        "print(type(ax))\n",
        "\n",
        "# axe 객체 설정 변경\n",
        "ax.set_title('서울 -> 타시도 인구 이동', size=30, color='brown', weight='bold')\n",
        "ax.set_ylabel('이동 인구 수', size=20, color='blue')\n",
        "ax.set_xlabel('기간', size=20, color='blue')\n",
        "ax.legend(loc='best', fontsize=15)\n",
        "\n",
        "plt.show()"
      ],
      "metadata": {
        "id": "JajoeZRwSpSH"
      },
      "execution_count": null,
      "outputs": []
    },
    {
      "cell_type": "markdown",
      "source": [
        "### 1-3 막대 그래프\n",
        "\n",
        "\n",
        "*   막대그래프(bar plot)는 데이터 값의 크기에 비례해 높이를 갖는 직사각형 막대로 표현\n",
        "*   가로형과 세로형이 존재\n",
        "- 세로형의 경우 정보 제공 측면에서 보면 선 그래프와 큰 차이가 없다\n",
        "- 세로형은 시간적으로 차이가 나는 두 점에서 데이터 값의 차이를 잘 설명. 즉 시계열 데이터를 표현하는데 적합\n",
        "- 세로형 -> plot() 메소드에 kind='bar' 옵션을 입력\n",
        "\n"
      ],
      "metadata": {
        "id": "j-fDvrVKUQr9"
      }
    },
    {
      "cell_type": "code",
      "source": [
        "# 서울에서 '충청남도', '경상북도', '강원도', '전라남도'로 이동한 인구 데이터 값만 선택\n",
        "col_years=list(map(str, range(2010,2018)))\n",
        "df_4=df_seoul.loc[['충청남도', '경상북도', '강원도','전라남도'], col_years]\n",
        "df_4 = df_4.transpose()\n",
        "\n",
        "# 스타일 서식 지정\n",
        "plt.style.use('ggplot')\n",
        "\n",
        "# 데이터프레임의 인덱스를 정수형으로 변경(x축 눈금 라벨 표시)\n",
        "df_4.index = df_4.index.map(int)\n",
        "\n",
        "# 막대 그래프 그리기\n",
        "df_4.plot(kind='bar', figsize=(20,10), width=0.7, color=['orange', 'green', 'skyblue', 'blue'])\n",
        "\n",
        "plt.title('서울 -> 타시도 인구 이동', size=30)\n",
        "plt.ylabel('이동 인구 수', size=20)\n",
        "plt.xlabel('기간', size=20)\n",
        "plt.ylim(5000,30000)\n",
        "plt.legend(loc='best', fontsize=15)\n",
        "\n",
        "plt.show()"
      ],
      "metadata": {
        "id": "NviK-GOHUp3J"
      },
      "execution_count": null,
      "outputs": []
    },
    {
      "cell_type": "markdown",
      "source": [
        "- 가로형 막대 그래프는 각 변수 사이 값의 크기 차이를 설명하는데 적합\n",
        "- 가로형 -> plot() 메소드의 옵션으로 kind='barh'를 입력"
      ],
      "metadata": {
        "id": "Bz1d_aSCa5f8"
      }
    },
    {
      "cell_type": "code",
      "source": [
        "# 서울에서 '충청남도', '경상북도', '강원도', '전라남도'로 이동한 인구 데이터 값만 선택\n",
        "col_years = list(map(str, range(2010,2018)))\n",
        "df_4=df_seoul.loc[['충청남도', '경상북도', '강원도','전라남도'], col_years]\n",
        "\n",
        "# 2010-2017년 이동 인구 수를 합계하여 새로운 열로 추가\n",
        "df_4['합계'] = df_4.sum(axis=1)\n",
        "\n",
        "# 가장 큰 값부터 정렬\n",
        "df_total = df_4.[['합계']].sort_values(by='합계', ascending=True)\n",
        "\n",
        "# 스타일 서식 지정\n",
        "plt.style.use('ggplot')\n",
        "\n",
        "# 수평 막대 그래프 그리기\n",
        "df_total.plot(kind='barh', color='cornflowerblue', width=0.5, figsize=(10,5))\n",
        "\n",
        "plt.title('서울 -> 타시도 인구 이동')\n",
        "plt.ylabel('전입지')\n",
        "plt.xlabel('이동 인구 수')\n",
        "\n",
        "plt.show()"
      ],
      "metadata": {
        "id": "OifyhPe7bDwN"
      },
      "execution_count": null,
      "outputs": []
    },
    {
      "cell_type": "markdown",
      "source": [
        "- 보조 축 활용하기 (2축 그래프 그리기)\n",
        "\n"
      ],
      "metadata": {
        "id": "9ggCsC0ycAlD"
      }
    },
    {
      "cell_type": "code",
      "source": [
        "#라이브러리 불러오기\n",
        "import pandas as pd\n",
        "import matplotlib.pyplot as plt\n",
        "\n",
        "#matploylib 한글 폰트 오류 문제 해결\n",
        "\n",
        "plt.style.use('ggplot')\n",
        "plt.rcParams['axes.unicode_minus']=False    #마이너스 부호 출석 설정\n",
        "\n",
        "\n",
        "#Excel 데이터를 데이터프레임으로 변환\n",
        "df = pd.read_excel('./남북한발전전력량.xlsx', convert_float=True)\n",
        "df = df.loc[5:9]\n",
        "df.drop('전력량 (억㎾h)', axis='columns',inplace=True)\n",
        "df.set_index('발전 전력별',inplace=True)\n",
        "df=df.T\n",
        "\n",
        "\n",
        "#증감률(변동률) 계산\n",
        "df = df.rename(columns={'합계':'총발전량'})\n",
        "df['총발전량-1년'] = df['총발전량'].shift(1)\n",
        "df['증감률'] = ((df['총발전량']/df['총발전량-1년'])-1)*100\n",
        "\n",
        "#2축 그래프 그리기\n",
        "ax1 = df[['수력','화력']].plot(kind='bar',figsize=(20,10),width=0.7,stacked=True)\n",
        "ax2 = ax1.twinx()\n",
        "ax2.plot(df.index,df.증감률,ls='--',marker='o',markersize=20,color='red',label='전년대비 증감률(%)')\n",
        "\n",
        "ax1.set_ylim(0,500)\n",
        "ax2.set_ylim(-50,50)\n",
        "\n",
        "ax1.set_xlabel('연도',size=20)\n",
        "ax1.set_ylabel('발전량(억 KWh)')\n",
        "ax2.set_ylabel('전년 대비 증감률(%)')\n",
        "\n",
        "plt.title('북한 전력 발전량 (1990~2016)',size=30)\n",
        "ax1.legend(loc='upper left')\n",
        "\n",
        "plt.show()\n"
      ],
      "metadata": {
        "colab": {
          "base_uri": "https://localhost:8080/",
          "height": 406
        },
        "id": "cGQFgKAZeAPi",
        "outputId": "10fa6780-c306-47f1-9309-2bea7616e4d4"
      },
      "execution_count": null,
      "outputs": [
        {
          "output_type": "error",
          "ename": "MessageError",
          "evalue": "Error: credential propagation was unsuccessful",
          "traceback": [
            "\u001b[0;31m---------------------------------------------------------------------------\u001b[0m",
            "\u001b[0;31mMessageError\u001b[0m                              Traceback (most recent call last)",
            "\u001b[0;32m<ipython-input-2-cca2acb3ce07>\u001b[0m in \u001b[0;36m<cell line: 13>\u001b[0;34m()\u001b[0m\n\u001b[1;32m     11\u001b[0m \u001b[0;31m#Excel 데이터를 데이터프레임으로 변환\u001b[0m\u001b[0;34m\u001b[0m\u001b[0;34m\u001b[0m\u001b[0m\n\u001b[1;32m     12\u001b[0m \u001b[0;32mfrom\u001b[0m \u001b[0mgoogle\u001b[0m\u001b[0;34m.\u001b[0m\u001b[0mcolab\u001b[0m \u001b[0;32mimport\u001b[0m \u001b[0mdrive\u001b[0m\u001b[0;34m\u001b[0m\u001b[0;34m\u001b[0m\u001b[0m\n\u001b[0;32m---> 13\u001b[0;31m \u001b[0mdrive\u001b[0m\u001b[0;34m.\u001b[0m\u001b[0mmount\u001b[0m\u001b[0;34m(\u001b[0m\u001b[0;34m'/content/drive'\u001b[0m\u001b[0;34m)\u001b[0m\u001b[0;34m\u001b[0m\u001b[0;34m\u001b[0m\u001b[0m\n\u001b[0m\u001b[1;32m     14\u001b[0m \u001b[0mdf\u001b[0m \u001b[0;34m=\u001b[0m \u001b[0mpd\u001b[0m\u001b[0;34m.\u001b[0m\u001b[0mread_excel\u001b[0m\u001b[0;34m(\u001b[0m\u001b[0;34m'/content/drive/MyDrive/남북한발전전력량.xlsx'\u001b[0m\u001b[0;34m,\u001b[0m \u001b[0mconvert_float\u001b[0m\u001b[0;34m=\u001b[0m\u001b[0;32mTrue\u001b[0m\u001b[0;34m)\u001b[0m\u001b[0;34m\u001b[0m\u001b[0;34m\u001b[0m\u001b[0m\n\u001b[1;32m     15\u001b[0m \u001b[0mdf\u001b[0m \u001b[0;34m=\u001b[0m \u001b[0mdf\u001b[0m\u001b[0;34m.\u001b[0m\u001b[0mloc\u001b[0m\u001b[0;34m[\u001b[0m\u001b[0;36m5\u001b[0m\u001b[0;34m:\u001b[0m\u001b[0;36m9\u001b[0m\u001b[0;34m]\u001b[0m\u001b[0;34m\u001b[0m\u001b[0;34m\u001b[0m\u001b[0m\n",
            "\u001b[0;32m/usr/local/lib/python3.10/dist-packages/google/colab/drive.py\u001b[0m in \u001b[0;36mmount\u001b[0;34m(mountpoint, force_remount, timeout_ms, readonly)\u001b[0m\n\u001b[1;32m     98\u001b[0m \u001b[0;32mdef\u001b[0m \u001b[0mmount\u001b[0m\u001b[0;34m(\u001b[0m\u001b[0mmountpoint\u001b[0m\u001b[0;34m,\u001b[0m \u001b[0mforce_remount\u001b[0m\u001b[0;34m=\u001b[0m\u001b[0;32mFalse\u001b[0m\u001b[0;34m,\u001b[0m \u001b[0mtimeout_ms\u001b[0m\u001b[0;34m=\u001b[0m\u001b[0;36m120000\u001b[0m\u001b[0;34m,\u001b[0m \u001b[0mreadonly\u001b[0m\u001b[0;34m=\u001b[0m\u001b[0;32mFalse\u001b[0m\u001b[0;34m)\u001b[0m\u001b[0;34m:\u001b[0m\u001b[0;34m\u001b[0m\u001b[0;34m\u001b[0m\u001b[0m\n\u001b[1;32m     99\u001b[0m   \u001b[0;34m\"\"\"Mount your Google Drive at the specified mountpoint path.\"\"\"\u001b[0m\u001b[0;34m\u001b[0m\u001b[0;34m\u001b[0m\u001b[0m\n\u001b[0;32m--> 100\u001b[0;31m   return _mount(\n\u001b[0m\u001b[1;32m    101\u001b[0m       \u001b[0mmountpoint\u001b[0m\u001b[0;34m,\u001b[0m\u001b[0;34m\u001b[0m\u001b[0;34m\u001b[0m\u001b[0m\n\u001b[1;32m    102\u001b[0m       \u001b[0mforce_remount\u001b[0m\u001b[0;34m=\u001b[0m\u001b[0mforce_remount\u001b[0m\u001b[0;34m,\u001b[0m\u001b[0;34m\u001b[0m\u001b[0;34m\u001b[0m\u001b[0m\n",
            "\u001b[0;32m/usr/local/lib/python3.10/dist-packages/google/colab/drive.py\u001b[0m in \u001b[0;36m_mount\u001b[0;34m(mountpoint, force_remount, timeout_ms, ephemeral, readonly)\u001b[0m\n\u001b[1;32m    131\u001b[0m   )\n\u001b[1;32m    132\u001b[0m   \u001b[0;32mif\u001b[0m \u001b[0mephemeral\u001b[0m\u001b[0;34m:\u001b[0m\u001b[0;34m\u001b[0m\u001b[0;34m\u001b[0m\u001b[0m\n\u001b[0;32m--> 133\u001b[0;31m     _message.blocking_request(\n\u001b[0m\u001b[1;32m    134\u001b[0m         \u001b[0;34m'request_auth'\u001b[0m\u001b[0;34m,\u001b[0m \u001b[0mrequest\u001b[0m\u001b[0;34m=\u001b[0m\u001b[0;34m{\u001b[0m\u001b[0;34m'authType'\u001b[0m\u001b[0;34m:\u001b[0m \u001b[0;34m'dfs_ephemeral'\u001b[0m\u001b[0;34m}\u001b[0m\u001b[0;34m,\u001b[0m \u001b[0mtimeout_sec\u001b[0m\u001b[0;34m=\u001b[0m\u001b[0;32mNone\u001b[0m\u001b[0;34m\u001b[0m\u001b[0;34m\u001b[0m\u001b[0m\n\u001b[1;32m    135\u001b[0m     )\n",
            "\u001b[0;32m/usr/local/lib/python3.10/dist-packages/google/colab/_message.py\u001b[0m in \u001b[0;36mblocking_request\u001b[0;34m(request_type, request, timeout_sec, parent)\u001b[0m\n\u001b[1;32m    174\u001b[0m       \u001b[0mrequest_type\u001b[0m\u001b[0;34m,\u001b[0m \u001b[0mrequest\u001b[0m\u001b[0;34m,\u001b[0m \u001b[0mparent\u001b[0m\u001b[0;34m=\u001b[0m\u001b[0mparent\u001b[0m\u001b[0;34m,\u001b[0m \u001b[0mexpect_reply\u001b[0m\u001b[0;34m=\u001b[0m\u001b[0;32mTrue\u001b[0m\u001b[0;34m\u001b[0m\u001b[0;34m\u001b[0m\u001b[0m\n\u001b[1;32m    175\u001b[0m   )\n\u001b[0;32m--> 176\u001b[0;31m   \u001b[0;32mreturn\u001b[0m \u001b[0mread_reply_from_input\u001b[0m\u001b[0;34m(\u001b[0m\u001b[0mrequest_id\u001b[0m\u001b[0;34m,\u001b[0m \u001b[0mtimeout_sec\u001b[0m\u001b[0;34m)\u001b[0m\u001b[0;34m\u001b[0m\u001b[0;34m\u001b[0m\u001b[0m\n\u001b[0m",
            "\u001b[0;32m/usr/local/lib/python3.10/dist-packages/google/colab/_message.py\u001b[0m in \u001b[0;36mread_reply_from_input\u001b[0;34m(message_id, timeout_sec)\u001b[0m\n\u001b[1;32m    101\u001b[0m     ):\n\u001b[1;32m    102\u001b[0m       \u001b[0;32mif\u001b[0m \u001b[0;34m'error'\u001b[0m \u001b[0;32min\u001b[0m \u001b[0mreply\u001b[0m\u001b[0;34m:\u001b[0m\u001b[0;34m\u001b[0m\u001b[0;34m\u001b[0m\u001b[0m\n\u001b[0;32m--> 103\u001b[0;31m         \u001b[0;32mraise\u001b[0m \u001b[0mMessageError\u001b[0m\u001b[0;34m(\u001b[0m\u001b[0mreply\u001b[0m\u001b[0;34m[\u001b[0m\u001b[0;34m'error'\u001b[0m\u001b[0;34m]\u001b[0m\u001b[0;34m)\u001b[0m\u001b[0;34m\u001b[0m\u001b[0;34m\u001b[0m\u001b[0m\n\u001b[0m\u001b[1;32m    104\u001b[0m       \u001b[0;32mreturn\u001b[0m \u001b[0mreply\u001b[0m\u001b[0;34m.\u001b[0m\u001b[0mget\u001b[0m\u001b[0;34m(\u001b[0m\u001b[0;34m'data'\u001b[0m\u001b[0;34m,\u001b[0m \u001b[0;32mNone\u001b[0m\u001b[0;34m)\u001b[0m\u001b[0;34m\u001b[0m\u001b[0;34m\u001b[0m\u001b[0m\n\u001b[1;32m    105\u001b[0m \u001b[0;34m\u001b[0m\u001b[0m\n",
            "\u001b[0;31mMessageError\u001b[0m: Error: credential propagation was unsuccessful"
          ]
        }
      ]
    },
    {
      "cell_type": "markdown",
      "source": [
        "### 1-4 히스토그램\n",
        "\n",
        "- 변수가 하나인 단변수 데이터의 빈도수를 그래프로 표현\n",
        "- x축을 여러 구간으로 나누고 각 구간에 속하는 데이터 값의 개수를 y축에 표시한다."
      ],
      "metadata": {
        "id": "h_Z9nriveAeX"
      }
    },
    {
      "cell_type": "code",
      "source": [
        "import pandas as pd\n",
        "import matplotlib.pyplot as plt\n",
        "\n",
        "plt.style.use('classic') #스타일 서식 지정\n",
        "\n",
        "#read_csv() 함수로 df 생성\n",
        "df = pd.read_csv('./auto-mpg.csv', header=None)\n",
        "\n",
        "#열 이름 지정\n",
        "df.columns =['mpg','cylinders', 'displacement', 'horsepower', 'weight', 'acceleration', 'model year', 'origin', 'name']\n",
        "\n",
        "# 연비(mpg) 열에 대한 히스토그램 살리기\n",
        "df['mpg'].plot(kind='hist', bins=10, color='coral', figsize=(10,5))\n",
        "\n",
        "# 그래프 꾸미기\n",
        "plt.title('Histogram')\n",
        "plt.xlabel('mpg')\n",
        "plt.show()"
      ],
      "metadata": {
        "id": "rI1ssbmDGi14"
      },
      "execution_count": null,
      "outputs": []
    },
    {
      "cell_type": "markdown",
      "source": [
        "### 1-5 산점도\n",
        "\n",
        "산점도(scatter plot)는 서로 다른 두 변수 사이의 관계를 나타낸다.\n",
        "\n",
        "- plot() 메소드에 kind='scatter'옵션을 사용\n",
        "- x='weight'옵션을 사용해 변수를 선택\n",
        "- y='mpg'옵션을 사용해 mpg열을 y축에 놓을 변수로 선택"
      ],
      "metadata": {
        "id": "CtN6ADvqIYXH"
      }
    },
    {
      "cell_type": "code",
      "source": [
        "import pandas as pd\n",
        "import matplotlib.pyplot as plt\n",
        "\n",
        "plt.style.use('default') #스타일 서식 지정\n",
        "\n",
        "#read_csv() 함수로 df 생성\n",
        "df = pd.read_csv('./auto-mpg.csv', header=None)\n",
        "\n",
        "#열 이름 지정\n",
        "df.columns = ['mpg', 'cylinders', 'displacement', 'horsepower', 'weight', 'acceleration', 'model year', 'origin', 'name']\n",
        "\n",
        "#연비(mpg)와 차중(weight) 열에 대한 산점도 그리기\n",
        "df.plot(kind='scatter', x='weight', y='mpg', c='coral', s=10, figsize=(10,5))\n",
        "plt.title('Scatter Plot - mpg vs weight')\n",
        "plt.show()"
      ],
      "metadata": {
        "id": "bGohV2FEIs2x"
      },
      "execution_count": null,
      "outputs": []
    },
    {
      "cell_type": "markdown",
      "source": [
        "- 해당 열의 최대값 대비 상대적 크기를 나타내는 비율을 계산해 cylinders_size 변수를 저장\n",
        "- 점의 크기에 따라 점의 크기를 값에 따라 다르게 표시\n",
        "=> 버블 차트라고도 부름"
      ],
      "metadata": {
        "id": "nrcyhXRrJzy1"
      }
    },
    {
      "cell_type": "code",
      "source": [
        "# cylinders 개수의 상대적 비율을 계산해 시리즈 생성\n",
        "cylinders_size = df.cylinders/df.cylinders.max() * 300\n",
        "\n",
        "# 3개의 변수로 산점도 그리기\n",
        "df.plot(kind='scatter', x='weight', y='mpg', c='coral', figsize=(10,5), s=cylinders_size, alpha=0.3)\n",
        "plt.title('Scatter Plot: mpg-weight-cylinders')\n",
        "plt.show()"
      ],
      "metadata": {
        "id": "pnbbTZe4J-i5"
      },
      "execution_count": null,
      "outputs": []
    },
    {
      "cell_type": "markdown",
      "source": [
        "- 그래프를 그림 파일로 저장\n",
        "- 앞에서 그린 산점도를 \"scatter.png\"라는 파일명으로 저장\n",
        "- transparent=True 옵션으로 그림 배경을 투명하세 지정"
      ],
      "metadata": {
        "id": "ilP8b_EEKiRS"
      }
    },
    {
      "cell_type": "code",
      "source": [
        "# cylinders 개수의 상대적 비율을 계산하여 시리즈 생성\n",
        "cylinders_size = df.cylinders/df.cylinders.max() * 300\n",
        "\n",
        "# 3개의 변수로 산점도 그리기\n",
        "df.plot(kind='scatter', x='weight', y='mpg', marker='+', figsize=(10,5), cmap='viridis', c=cylinders_size, s=50, alpha=0.3)\n",
        "plt.title('Scatter Plot: mpg-weight-cylinders')\n",
        "\n",
        "plt.savefig(\"./scatter.png\")\n",
        "plt.savefig(\"./scatter_transparent.png\", transparent=True)\n",
        "\n",
        "plt.show()"
      ],
      "metadata": {
        "id": "UTLzeoBCKtHm"
      },
      "execution_count": null,
      "outputs": []
    },
    {
      "cell_type": "markdown",
      "source": [
        "### 1-6 파이 차트\n",
        "\n",
        "-plot() 메소드에 kind='pie' 옵션을 사용해 그린다."
      ],
      "metadata": {
        "id": "_fpcNaPPLW9u"
      }
    },
    {
      "cell_type": "code",
      "source": [
        "# 라이브러리 불러오기\n",
        "import pandas as pd\n",
        "import matplotlib.pyplot as plt\n",
        "\n",
        "plt.style.use('default') # 스타일 서식 지정\n",
        "\n",
        "#read_csv() 함수로 df 생성\n",
        "df=pd.read_csv('./auto-mpg.csv', header=None)\n",
        "\n",
        "#열 이름 지정\n",
        "df.columns = ['mpg','cylinders', 'displacement', 'horsepower', 'weight', 'acceleration', 'model year', 'origin', 'name']\n",
        "\n",
        "#데이터 개수 카운트를 위해 값 1을 가진 열 추가\n",
        "df['count'] =1\n",
        "df_origin = df.groupby('origin').sum() # origin 열을 기준으로 그룹화, 합계 연산\n",
        "print(df_origin.head())\n",
        "\n",
        "#제조국가(origin) 값을 실제 지역명으로 변경\n",
        "df_origin.index = ['USA', 'EU', 'JPN']\n",
        "\n",
        "#제조국가(origin) 열에 대한 파이 차트 그리기 - count 열 데이터 사용\n",
        "df_origin['count'].plot(kind='pie', figsize=(7,5),autopct='%1.1f%%', #퍼센트 % 표시\n",
        "                        startangle=10, #파이 조각을 나누는 시작점(각도 표시)\n",
        "                        colors=['chocolate', 'bisque', 'cadetblue'] #색상 리스트\n",
        "                        )\n",
        "\n",
        "plt.title('Model Origin', size=20)\n",
        "plt.axis('equl') #파이 차트의 비율을 같게(원에 가깝게) 조정\n",
        "plt.legend(labels=df_origin.index, loc='upper right') # 범례 표시\n",
        "plt.show()"
      ],
      "metadata": {
        "id": "a3lrOoZIMDvi"
      },
      "execution_count": null,
      "outputs": []
    },
    {
      "cell_type": "markdown",
      "source": [
        "### 1-7 박스 플롯\n",
        "- 박스플롯은 범주형 데이터의 분포를 파악하는데 적합\n",
        "- 최소값, 1분위값, 중간값, 3분위값, 최대값을 제공"
      ],
      "metadata": {
        "id": "4cJWl_P6N6AE"
      }
    },
    {
      "cell_type": "code",
      "source": [
        "import pandas as pd\n",
        "import matplotlib.pyplot as plt\n",
        "\n",
        "#matplotlib 한글 폰트 오류 문제 해결\n",
        "from matplotlib import font_manager, rc\n",
        "font_path = \"./malgun.ttf\"\n",
        "font_name = font_manager.FontProperties(fname=font_path).get_name()\n",
        "rc('font', family=font_name)\n",
        "\n",
        "plt.style.use('seaborn-poster') #스타일 서식 지정\n",
        "plt.rcParams['axes.unicode_minus']=False #마이너스 부호 출력 설정\n",
        "\n",
        "#read_csv() 함수로 df 생성\n",
        "df= pd.read_csv('./auto-mpg.csv', header=None)\n",
        "\n",
        "# 열이름 지정\n",
        "df.columns = ['mpg','cylinders', 'displacement', 'horsepower', 'weight', 'acceleration', 'model year', 'origin', 'name']\n",
        "\n",
        "# 그래프 객체 생성(figure에 2개의 서브 플롯 생성)\n",
        "fig = plt.figure(figsize=(15,5))\n",
        "ax1 = fig.add_subplot(1,2,1)\n",
        "ax2 = fig.add_subplot(1,2,2)\n",
        "\n",
        "#axe 객체에 boxplot 메소드로 그래프 출력\n",
        "ax1.boxplot(x=[df[df['origin']==1]['mpg'], df[df['origin']==2]['mpg'], df[df['origin']==3]['mpg']], labels=['USA', 'EU', 'JAPAN'])\n",
        "ax2.boxplot(x=[df[df['origin']==1]['mpg'], df[df['origin']==2]['mpg'], df[df['origin']==3]['mpg']], labels=['USA', 'EU', 'JAPAN'], vert=False)\n",
        "\n",
        "ax1.set_title('제조국가별 연비 분포(수직 박스 플롯)')\n",
        "ax2.set_title('제조국가별 연비 분포(수평 박스 플롯)')\n",
        "\n",
        "plt.show()\n"
      ],
      "metadata": {
        "id": "Iul-rHOGOLSl"
      },
      "execution_count": null,
      "outputs": []
    }
  ]
}